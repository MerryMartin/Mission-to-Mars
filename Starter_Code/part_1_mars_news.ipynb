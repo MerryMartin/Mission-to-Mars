{
 "cells": [
  {
   "cell_type": "markdown",
   "metadata": {},
   "source": [
    "# Module 12 Challenge\n",
    "## Deliverable 1: Scrape Titles and Preview Text from Mars News"
   ]
  },
  {
   "cell_type": "code",
   "execution_count": 1,
   "metadata": {},
   "outputs": [],
   "source": [
    "# Import Splinter and BeautifulSoup\n",
    "from splinter import Browser\n",
    "from bs4 import BeautifulSoup as soup\n",
    "from webdriver_manager.chrome import ChromeDriverManager"
   ]
  },
  {
   "cell_type": "code",
   "execution_count": 2,
   "metadata": {
    "scrolled": true
   },
   "outputs": [],
   "source": [
    "executable_path = {'executable_path': ChromeDriverManager().install()}\n",
    "browser = Browser('chrome', **executable_path, headless=False)"
   ]
  },
  {
   "cell_type": "markdown",
   "metadata": {},
   "source": [
    "### Step 1: Visit the Website\n",
    "\n",
    "1. Use automated browsing to visit the [Mars NASA news site](https://redplanetscience.com). Inspect the page to identify which elements to scrape.\n",
    "\n",
    "      > **Hint** To identify which elements to scrape, you might want to inspect the page by using Chrome DevTools."
   ]
  },
  {
   "cell_type": "code",
   "execution_count": 3,
   "metadata": {},
   "outputs": [],
   "source": [
    "# Visit the Mars NASA news site: https://redplanetscience.com\n",
    "url = 'https://redplanetscience.com'\n",
    "browser.visit(url)"
   ]
  },
  {
   "cell_type": "markdown",
   "metadata": {},
   "source": [
    "### Step 2: Scrape the Website\n",
    "\n",
    "Create a Beautiful Soup object and use it to extract text elements from the website."
   ]
  },
  {
   "cell_type": "code",
   "execution_count": 4,
   "metadata": {},
   "outputs": [],
   "source": [
    "# Create a Beautiful Soup object\n",
    "html = browser.html\n",
    "html_soup = soup(html, 'html.parser')"
   ]
  },
  {
   "cell_type": "code",
   "execution_count": 5,
   "metadata": {},
   "outputs": [
    {
     "name": "stdout",
     "output_type": "stream",
     "text": [
      "[<div class=\"col-md-8\">\n",
      "<div class=\"list_text\">\n",
      "<div class=\"list_date\">January 4, 2023</div>\n",
      "<div class=\"content_title\">NASA to Broadcast Mars 2020 Perseverance Launch, Prelaunch Activities</div>\n",
      "<div class=\"article_teaser_body\">Starting July 27, news activities will cover everything from mission engineering and science to returning samples from Mars to, of course, the launch itself.</div>\n",
      "</div>\n",
      "</div>, <div class=\"col-md-8\">\n",
      "<div class=\"list_text\">\n",
      "<div class=\"list_date\">January 3, 2023</div>\n",
      "<div class=\"content_title\">From JPL's Mailroom to Mars and Beyond</div>\n",
      "<div class=\"article_teaser_body\">Bill Allen has thrived as the mechanical systems design lead for three Mars rover missions, but he got his start as a teenager sorting letters for the NASA center.</div>\n",
      "</div>\n",
      "</div>, <div class=\"col-md-8\">\n",
      "<div class=\"list_text\">\n",
      "<div class=\"list_date\">December 31, 2022</div>\n",
      "<div class=\"content_title\">10.9 Million Names Now Aboard NASA's Perseverance Mars Rover</div>\n",
      "<div class=\"article_teaser_body\">As part of NASA's 'Send Your Name to Mars' campaign, they've been stenciled onto three microchips along with essays from NASA's 'Name the Rover' contest. Next stop: Mars.</div>\n",
      "</div>\n",
      "</div>, <div class=\"col-md-8\">\n",
      "<div class=\"list_text\">\n",
      "<div class=\"list_date\">December 29, 2022</div>\n",
      "<div class=\"content_title\">Sensors on Mars 2020 Spacecraft Answer Long-Distance Call From Earth</div>\n",
      "<div class=\"article_teaser_body\">Instruments tailored to collect data during the descent of NASA's next rover through the Red Planet's atmosphere have been checked in flight.</div>\n",
      "</div>\n",
      "</div>, <div class=\"col-md-8\">\n",
      "<div class=\"list_text\">\n",
      "<div class=\"list_date\">December 29, 2022</div>\n",
      "<div class=\"content_title\">NASA Administrator Statement on Moon to Mars Initiative, FY 2021 Budget</div>\n",
      "<div class=\"article_teaser_body\">Jim Bridenstine addresses NASA's ambitious plans for the coming years, including Mars Sample Return.</div>\n",
      "</div>\n",
      "</div>, <div class=\"col-md-8\">\n",
      "<div class=\"list_text\">\n",
      "<div class=\"list_date\">December 28, 2022</div>\n",
      "<div class=\"content_title\">NASA Wins 4 Webbys, 4 People's Voice Awards</div>\n",
      "<div class=\"article_teaser_body\">Winners include the JPL-managed \"Send Your Name to Mars\" campaign, NASA's Global Climate Change website and Solar System Interactive.</div>\n",
      "</div>\n",
      "</div>, <div class=\"col-md-8\">\n",
      "<div class=\"list_text\">\n",
      "<div class=\"list_date\">December 26, 2022</div>\n",
      "<div class=\"content_title\">The MarCO Mission Comes to an End</div>\n",
      "<div class=\"article_teaser_body\">The pair of briefcase-sized satellites made history when they sailed past Mars in 2019.</div>\n",
      "</div>\n",
      "</div>, <div class=\"col-md-8\">\n",
      "<div class=\"list_text\">\n",
      "<div class=\"list_date\">December 23, 2022</div>\n",
      "<div class=\"content_title\">Media Get a Close-Up of NASA's Mars 2020 Rover</div>\n",
      "<div class=\"article_teaser_body\">The clean room at NASA's Jet Propulsion Laboratory was open to the media to see NASA's next Mars explorer before it leaves for Florida in preparation for a summertime launch.</div>\n",
      "</div>\n",
      "</div>, <div class=\"col-md-8\">\n",
      "<div class=\"list_text\">\n",
      "<div class=\"list_date\">December 21, 2022</div>\n",
      "<div class=\"content_title\">NASA Establishes Board to Initially Review Mars Sample Return Plans</div>\n",
      "<div class=\"article_teaser_body\">The board will assist with analysis of current plans and goals for one of the most difficult missions humanity has ever undertaken.</div>\n",
      "</div>\n",
      "</div>, <div class=\"col-md-8\">\n",
      "<div class=\"list_text\">\n",
      "<div class=\"list_date\">December 20, 2022</div>\n",
      "<div class=\"content_title\">Independent Review Indicates NASA Prepared for Mars Sample Return Campaign</div>\n",
      "<div class=\"article_teaser_body\">NASA released an independent review report Tuesday indicating the agency is well positioned for its Mars Sample Return campaign to bring pristine samples from Mars to Earth for scientific study.</div>\n",
      "</div>\n",
      "</div>, <div class=\"col-md-8\">\n",
      "<div class=\"list_text\">\n",
      "<div class=\"list_date\">December 19, 2022</div>\n",
      "<div class=\"content_title\">NASA's Mars Perseverance Rover Passes Flight Readiness Review</div>\n",
      "<div class=\"article_teaser_body\">​The agency's Mars 2020 mission has one more big prelaunch review – the Launch Readiness Review, on July 27.</div>\n",
      "</div>\n",
      "</div>, <div class=\"col-md-8\">\n",
      "<div class=\"list_text\">\n",
      "<div class=\"list_date\">December 17, 2022</div>\n",
      "<div class=\"content_title\">Follow NASA's Perseverance Rover in Real Time on Its Way to Mars</div>\n",
      "<div class=\"article_teaser_body\">A crisply rendered web application can show you where the agency's Mars 2020 mission is right now as it makes its way to the Red Planet for a Feb. 18, 2021, landing.</div>\n",
      "</div>\n",
      "</div>, <div class=\"col-md-8\">\n",
      "<div class=\"list_text\">\n",
      "<div class=\"list_date\">December 17, 2022</div>\n",
      "<div class=\"content_title\">NASA's Curiosity Mars Rover Snaps Its Highest-Resolution Panorama Yet</div>\n",
      "<div class=\"article_teaser_body\">To go along with the stunning 1.8-billion-pixel image, a new video offers a sweeping view of the Red Planet.</div>\n",
      "</div>\n",
      "</div>, <div class=\"col-md-8\">\n",
      "<div class=\"list_text\">\n",
      "<div class=\"list_date\">December 13, 2022</div>\n",
      "<div class=\"content_title\">NASA Readies Perseverance Mars Rover's Earthly Twin </div>\n",
      "<div class=\"article_teaser_body\">Did you know NASA's next Mars rover has a nearly identical sibling on Earth for testing? Even better, it's about to roll for the first time through a replica Martian landscape.</div>\n",
      "</div>\n",
      "</div>, <div class=\"col-md-8\">\n",
      "<div class=\"list_text\">\n",
      "<div class=\"list_date\">December 4, 2022</div>\n",
      "<div class=\"content_title\">NASA's Perseverance Rover Will Look at Mars Through These 'Eyes'</div>\n",
      "<div class=\"article_teaser_body\">A pair of zoomable cameras will help scientists and rover drivers with high-resolution color images.</div>\n",
      "</div>\n",
      "</div>]\n"
     ]
    }
   ],
   "source": [
    "# Extract all the text elements\n",
    "text_elem = html_soup.find_all('div', class_= 'col-md-8')\n",
    "print(text_elem)"
   ]
  },
  {
   "cell_type": "markdown",
   "metadata": {},
   "source": [
    "### Step 3: Store the Results\n",
    "\n",
    "Extract the titles and preview text of the news articles that you scraped. Store the scraping results in Python data structures as follows:\n",
    "\n",
    "* Store each title-and-preview pair in a Python dictionary. And, give each dictionary two keys: `title` and `preview`. An example is the following:\n",
    "\n",
    "  ```python\n",
    "  {'title': \"Mars Rover Begins Mission!\", \n",
    "        'preview': \"NASA's Mars Rover begins a multiyear mission to collect data about the little-explored planet.\"}\n",
    "  ```\n",
    "\n",
    "* Store all the dictionaries in a Python list.\n",
    "\n",
    "* Print the list in your notebook."
   ]
  },
  {
   "cell_type": "code",
   "execution_count": 8,
   "metadata": {},
   "outputs": [],
   "source": [
    "# Create an empty list to store the dictionaries\n",
    "mars_list = []"
   ]
  },
  {
   "cell_type": "code",
   "execution_count": 12,
   "metadata": {},
   "outputs": [],
   "source": [
    "# Loop through the text elements\n",
    "for elem in text_elem:\n",
    "      \n",
    "# Extract the title and preview text from the elements\n",
    "    title = elem.find('div', class_= 'content_title').text\n",
    "    preview = elem.find('div', class_= 'article_teaser_body').text\n",
    "    \n",
    "# Store each title and preview pair in a dictionary\n",
    "    mars_data = {'title': \"\", 'preview': \"\"}  \n",
    "    mars_data['title'] = title\n",
    "    mars_data['preview'] = preview\n",
    "    \n",
    "# Add the dictionary to the list\n",
    "    mars_list.append(mars_data)\n",
    "    \n",
    "\n",
    "\n"
   ]
  },
  {
   "cell_type": "code",
   "execution_count": 13,
   "metadata": {},
   "outputs": [
    {
     "name": "stdout",
     "output_type": "stream",
     "text": [
      "[{'title': 'NASA to Broadcast Mars 2020 Perseverance Launch, Prelaunch Activities', 'preview': 'Starting July 27, news activities will cover everything from mission engineering and science to returning samples from Mars to, of course, the launch itself.'}, {'title': \"From JPL's Mailroom to Mars and Beyond\", 'preview': 'Bill Allen has thrived as the mechanical systems design lead for three Mars rover missions, but he got his start as a teenager sorting letters for the NASA center.'}, {'title': \"10.9 Million Names Now Aboard NASA's Perseverance Mars Rover\", 'preview': \"As part of NASA's 'Send Your Name to Mars' campaign, they've been stenciled onto three microchips along with essays from NASA's 'Name the Rover' contest. Next stop: Mars.\"}, {'title': 'Sensors on Mars 2020 Spacecraft Answer Long-Distance Call From Earth', 'preview': \"Instruments tailored to collect data during the descent of NASA's next rover through the Red Planet's atmosphere have been checked in flight.\"}, {'title': 'NASA Administrator Statement on Moon to Mars Initiative, FY 2021 Budget', 'preview': \"Jim Bridenstine addresses NASA's ambitious plans for the coming years, including Mars Sample Return.\"}, {'title': \"NASA Wins 4 Webbys, 4 People's Voice Awards\", 'preview': 'Winners include the JPL-managed \"Send Your Name to Mars\" campaign, NASA\\'s Global Climate Change website and Solar System Interactive.'}, {'title': 'The MarCO Mission Comes to an End', 'preview': 'The pair of briefcase-sized satellites made history when they sailed past Mars in 2019.'}, {'title': \"Media Get a Close-Up of NASA's Mars 2020 Rover\", 'preview': \"The clean room at NASA's Jet Propulsion Laboratory was open to the media to see NASA's next Mars explorer before it leaves for Florida in preparation for a summertime launch.\"}, {'title': 'NASA Establishes Board to Initially Review Mars Sample Return Plans', 'preview': 'The board will assist with analysis of current plans and goals for one of the most difficult missions humanity has ever undertaken.'}, {'title': 'Independent Review Indicates NASA Prepared for Mars Sample Return Campaign', 'preview': 'NASA released an independent review report Tuesday indicating the agency is well positioned for its Mars Sample Return campaign to bring pristine samples from Mars to Earth for scientific study.'}, {'title': \"NASA's Mars Perseverance Rover Passes Flight Readiness Review\", 'preview': \"\\u200bThe agency's Mars 2020 mission has one more big prelaunch review – the Launch Readiness Review, on July 27.\"}, {'title': \"Follow NASA's Perseverance Rover in Real Time on Its Way to Mars\", 'preview': \"A crisply rendered web application can show you where the agency's Mars 2020 mission is right now as it makes its way to the Red Planet for a Feb. 18, 2021, landing.\"}, {'title': \"NASA's Curiosity Mars Rover Snaps Its Highest-Resolution Panorama Yet\", 'preview': 'To go along with the stunning 1.8-billion-pixel image, a new video offers a sweeping view of the Red Planet.'}, {'title': \"NASA Readies Perseverance Mars Rover's Earthly Twin \", 'preview': \"Did you know NASA's next Mars rover has a nearly identical sibling on Earth for testing? Even better, it's about to roll for the first time through a replica Martian landscape.\"}, {'title': \"NASA's Perseverance Rover Will Look at Mars Through These 'Eyes'\", 'preview': 'A pair of zoomable cameras will help scientists and rover drivers with high-resolution color images.'}, {'title': 'NASA to Broadcast Mars 2020 Perseverance Launch, Prelaunch Activities', 'preview': 'Starting July 27, news activities will cover everything from mission engineering and science to returning samples from Mars to, of course, the launch itself.'}, {'title': \"From JPL's Mailroom to Mars and Beyond\", 'preview': 'Bill Allen has thrived as the mechanical systems design lead for three Mars rover missions, but he got his start as a teenager sorting letters for the NASA center.'}, {'title': \"10.9 Million Names Now Aboard NASA's Perseverance Mars Rover\", 'preview': \"As part of NASA's 'Send Your Name to Mars' campaign, they've been stenciled onto three microchips along with essays from NASA's 'Name the Rover' contest. Next stop: Mars.\"}, {'title': 'Sensors on Mars 2020 Spacecraft Answer Long-Distance Call From Earth', 'preview': \"Instruments tailored to collect data during the descent of NASA's next rover through the Red Planet's atmosphere have been checked in flight.\"}, {'title': 'NASA Administrator Statement on Moon to Mars Initiative, FY 2021 Budget', 'preview': \"Jim Bridenstine addresses NASA's ambitious plans for the coming years, including Mars Sample Return.\"}, {'title': \"NASA Wins 4 Webbys, 4 People's Voice Awards\", 'preview': 'Winners include the JPL-managed \"Send Your Name to Mars\" campaign, NASA\\'s Global Climate Change website and Solar System Interactive.'}, {'title': 'The MarCO Mission Comes to an End', 'preview': 'The pair of briefcase-sized satellites made history when they sailed past Mars in 2019.'}, {'title': \"Media Get a Close-Up of NASA's Mars 2020 Rover\", 'preview': \"The clean room at NASA's Jet Propulsion Laboratory was open to the media to see NASA's next Mars explorer before it leaves for Florida in preparation for a summertime launch.\"}, {'title': 'NASA Establishes Board to Initially Review Mars Sample Return Plans', 'preview': 'The board will assist with analysis of current plans and goals for one of the most difficult missions humanity has ever undertaken.'}, {'title': 'Independent Review Indicates NASA Prepared for Mars Sample Return Campaign', 'preview': 'NASA released an independent review report Tuesday indicating the agency is well positioned for its Mars Sample Return campaign to bring pristine samples from Mars to Earth for scientific study.'}, {'title': \"NASA's Mars Perseverance Rover Passes Flight Readiness Review\", 'preview': \"\\u200bThe agency's Mars 2020 mission has one more big prelaunch review – the Launch Readiness Review, on July 27.\"}, {'title': \"Follow NASA's Perseverance Rover in Real Time on Its Way to Mars\", 'preview': \"A crisply rendered web application can show you where the agency's Mars 2020 mission is right now as it makes its way to the Red Planet for a Feb. 18, 2021, landing.\"}, {'title': \"NASA's Curiosity Mars Rover Snaps Its Highest-Resolution Panorama Yet\", 'preview': 'To go along with the stunning 1.8-billion-pixel image, a new video offers a sweeping view of the Red Planet.'}, {'title': \"NASA Readies Perseverance Mars Rover's Earthly Twin \", 'preview': \"Did you know NASA's next Mars rover has a nearly identical sibling on Earth for testing? Even better, it's about to roll for the first time through a replica Martian landscape.\"}, {'title': \"NASA's Perseverance Rover Will Look at Mars Through These 'Eyes'\", 'preview': 'A pair of zoomable cameras will help scientists and rover drivers with high-resolution color images.'}]\n"
     ]
    }
   ],
   "source": [
    "# Print the list to confirm success\n",
    "print(mars_list)"
   ]
  },
  {
   "cell_type": "code",
   "execution_count": 14,
   "metadata": {},
   "outputs": [],
   "source": [
    "browser.quit()"
   ]
  },
  {
   "cell_type": "markdown",
   "metadata": {},
   "source": [
    "### (Optional) Step 4: Export the Data\n",
    "\n",
    "Optionally, store the scraped data in a file or database (to ease sharing the data with others). To do so, export the scraped data to either a JSON file or a MongoDB database."
   ]
  },
  {
   "cell_type": "code",
   "execution_count": 17,
   "metadata": {},
   "outputs": [
    {
     "name": "stdout",
     "output_type": "stream",
     "text": [
      "[{\"title\": \"NASA to Broadcast Mars 2020 Perseverance Launch, Prelaunch Activities\", \"preview\": \"Starting July 27, news activities will cover everything from mission engineering and science to returning samples from Mars to, of course, the launch itself.\"}, {\"title\": \"From JPL's Mailroom to Mars and Beyond\", \"preview\": \"Bill Allen has thrived as the mechanical systems design lead for three Mars rover missions, but he got his start as a teenager sorting letters for the NASA center.\"}, {\"title\": \"10.9 Million Names Now Aboard NASA's Perseverance Mars Rover\", \"preview\": \"As part of NASA's 'Send Your Name to Mars' campaign, they've been stenciled onto three microchips along with essays from NASA's 'Name the Rover' contest. Next stop: Mars.\"}, {\"title\": \"Sensors on Mars 2020 Spacecraft Answer Long-Distance Call From Earth\", \"preview\": \"Instruments tailored to collect data during the descent of NASA's next rover through the Red Planet's atmosphere have been checked in flight.\"}, {\"title\": \"NASA Administrator Statement on Moon to Mars Initiative, FY 2021 Budget\", \"preview\": \"Jim Bridenstine addresses NASA's ambitious plans for the coming years, including Mars Sample Return.\"}, {\"title\": \"NASA Wins 4 Webbys, 4 People's Voice Awards\", \"preview\": \"Winners include the JPL-managed \\\"Send Your Name to Mars\\\" campaign, NASA's Global Climate Change website and Solar System Interactive.\"}, {\"title\": \"The MarCO Mission Comes to an End\", \"preview\": \"The pair of briefcase-sized satellites made history when they sailed past Mars in 2019.\"}, {\"title\": \"Media Get a Close-Up of NASA's Mars 2020 Rover\", \"preview\": \"The clean room at NASA's Jet Propulsion Laboratory was open to the media to see NASA's next Mars explorer before it leaves for Florida in preparation for a summertime launch.\"}, {\"title\": \"NASA Establishes Board to Initially Review Mars Sample Return Plans\", \"preview\": \"The board will assist with analysis of current plans and goals for one of the most difficult missions humanity has ever undertaken.\"}, {\"title\": \"Independent Review Indicates NASA Prepared for Mars Sample Return Campaign\", \"preview\": \"NASA released an independent review report Tuesday indicating the agency is well positioned for its Mars Sample Return campaign to bring pristine samples from Mars to Earth for scientific study.\"}, {\"title\": \"NASA's Mars Perseverance Rover Passes Flight Readiness Review\", \"preview\": \"\\u200bThe agency's Mars 2020 mission has one more big prelaunch review \\u2013 the Launch Readiness Review, on July 27.\"}, {\"title\": \"Follow NASA's Perseverance Rover in Real Time on Its Way to Mars\", \"preview\": \"A crisply rendered web application can show you where the agency's Mars 2020 mission is right now as it makes its way to the Red Planet for a Feb. 18, 2021, landing.\"}, {\"title\": \"NASA's Curiosity Mars Rover Snaps Its Highest-Resolution Panorama Yet\", \"preview\": \"To go along with the stunning 1.8-billion-pixel image, a new video offers a sweeping view of the Red Planet.\"}, {\"title\": \"NASA Readies Perseverance Mars Rover's Earthly Twin \", \"preview\": \"Did you know NASA's next Mars rover has a nearly identical sibling on Earth for testing? Even better, it's about to roll for the first time through a replica Martian landscape.\"}, {\"title\": \"NASA's Perseverance Rover Will Look at Mars Through These 'Eyes'\", \"preview\": \"A pair of zoomable cameras will help scientists and rover drivers with high-resolution color images.\"}, {\"title\": \"NASA to Broadcast Mars 2020 Perseverance Launch, Prelaunch Activities\", \"preview\": \"Starting July 27, news activities will cover everything from mission engineering and science to returning samples from Mars to, of course, the launch itself.\"}, {\"title\": \"From JPL's Mailroom to Mars and Beyond\", \"preview\": \"Bill Allen has thrived as the mechanical systems design lead for three Mars rover missions, but he got his start as a teenager sorting letters for the NASA center.\"}, {\"title\": \"10.9 Million Names Now Aboard NASA's Perseverance Mars Rover\", \"preview\": \"As part of NASA's 'Send Your Name to Mars' campaign, they've been stenciled onto three microchips along with essays from NASA's 'Name the Rover' contest. Next stop: Mars.\"}, {\"title\": \"Sensors on Mars 2020 Spacecraft Answer Long-Distance Call From Earth\", \"preview\": \"Instruments tailored to collect data during the descent of NASA's next rover through the Red Planet's atmosphere have been checked in flight.\"}, {\"title\": \"NASA Administrator Statement on Moon to Mars Initiative, FY 2021 Budget\", \"preview\": \"Jim Bridenstine addresses NASA's ambitious plans for the coming years, including Mars Sample Return.\"}, {\"title\": \"NASA Wins 4 Webbys, 4 People's Voice Awards\", \"preview\": \"Winners include the JPL-managed \\\"Send Your Name to Mars\\\" campaign, NASA's Global Climate Change website and Solar System Interactive.\"}, {\"title\": \"The MarCO Mission Comes to an End\", \"preview\": \"The pair of briefcase-sized satellites made history when they sailed past Mars in 2019.\"}, {\"title\": \"Media Get a Close-Up of NASA's Mars 2020 Rover\", \"preview\": \"The clean room at NASA's Jet Propulsion Laboratory was open to the media to see NASA's next Mars explorer before it leaves for Florida in preparation for a summertime launch.\"}, {\"title\": \"NASA Establishes Board to Initially Review Mars Sample Return Plans\", \"preview\": \"The board will assist with analysis of current plans and goals for one of the most difficult missions humanity has ever undertaken.\"}, {\"title\": \"Independent Review Indicates NASA Prepared for Mars Sample Return Campaign\", \"preview\": \"NASA released an independent review report Tuesday indicating the agency is well positioned for its Mars Sample Return campaign to bring pristine samples from Mars to Earth for scientific study.\"}, {\"title\": \"NASA's Mars Perseverance Rover Passes Flight Readiness Review\", \"preview\": \"\\u200bThe agency's Mars 2020 mission has one more big prelaunch review \\u2013 the Launch Readiness Review, on July 27.\"}, {\"title\": \"Follow NASA's Perseverance Rover in Real Time on Its Way to Mars\", \"preview\": \"A crisply rendered web application can show you where the agency's Mars 2020 mission is right now as it makes its way to the Red Planet for a Feb. 18, 2021, landing.\"}, {\"title\": \"NASA's Curiosity Mars Rover Snaps Its Highest-Resolution Panorama Yet\", \"preview\": \"To go along with the stunning 1.8-billion-pixel image, a new video offers a sweeping view of the Red Planet.\"}, {\"title\": \"NASA Readies Perseverance Mars Rover's Earthly Twin \", \"preview\": \"Did you know NASA's next Mars rover has a nearly identical sibling on Earth for testing? Even better, it's about to roll for the first time through a replica Martian landscape.\"}, {\"title\": \"NASA's Perseverance Rover Will Look at Mars Through These 'Eyes'\", \"preview\": \"A pair of zoomable cameras will help scientists and rover drivers with high-resolution color images.\"}]\n"
     ]
    }
   ],
   "source": [
    "# Export data to JSON\n",
    "import json\n",
    "json_file = json.dumps(mars_list)\n",
    "print(json_file)"
   ]
  },
  {
   "cell_type": "code",
   "execution_count": 18,
   "metadata": {},
   "outputs": [
    {
     "name": "stdout",
     "output_type": "stream",
     "text": [
      "('[{\"title\": \"NASA to Broadcast Mars 2020 Perseverance Launch, Prelaunch '\n",
      " 'Activities\", \"preview\": \"Starting July 27, news activities will cover '\n",
      " 'everything from mission engineering and science to returning samples from '\n",
      " 'Mars to, of course, the launch itself.\"}, {\"title\": \"From JPL\\'s Mailroom to '\n",
      " 'Mars and Beyond\", \"preview\": \"Bill Allen has thrived as the mechanical '\n",
      " 'systems design lead for three Mars rover missions, but he got his start as a '\n",
      " 'teenager sorting letters for the NASA center.\"}, {\"title\": \"10.9 Million '\n",
      " 'Names Now Aboard NASA\\'s Perseverance Mars Rover\", \"preview\": \"As part of '\n",
      " \"NASA's 'Send Your Name to Mars' campaign, they've been stenciled onto three \"\n",
      " \"microchips along with essays from NASA's 'Name the Rover' contest. Next \"\n",
      " 'stop: Mars.\"}, {\"title\": \"Sensors on Mars 2020 Spacecraft Answer '\n",
      " 'Long-Distance Call From Earth\", \"preview\": \"Instruments tailored to collect '\n",
      " \"data during the descent of NASA's next rover through the Red Planet's \"\n",
      " 'atmosphere have been checked in flight.\"}, {\"title\": \"NASA Administrator '\n",
      " 'Statement on Moon to Mars Initiative, FY 2021 Budget\", \"preview\": \"Jim '\n",
      " \"Bridenstine addresses NASA's ambitious plans for the coming years, including \"\n",
      " 'Mars Sample Return.\"}, {\"title\": \"NASA Wins 4 Webbys, 4 People\\'s Voice '\n",
      " 'Awards\", \"preview\": \"Winners include the JPL-managed \\\\\"Send Your Name to '\n",
      " 'Mars\\\\\" campaign, NASA\\'s Global Climate Change website and Solar System '\n",
      " 'Interactive.\"}, {\"title\": \"The MarCO Mission Comes to an End\", \"preview\": '\n",
      " '\"The pair of briefcase-sized satellites made history when they sailed past '\n",
      " 'Mars in 2019.\"}, {\"title\": \"Media Get a Close-Up of NASA\\'s Mars 2020 '\n",
      " 'Rover\", \"preview\": \"The clean room at NASA\\'s Jet Propulsion Laboratory was '\n",
      " \"open to the media to see NASA's next Mars explorer before it leaves for \"\n",
      " 'Florida in preparation for a summertime launch.\"}, {\"title\": \"NASA '\n",
      " 'Establishes Board to Initially Review Mars Sample Return Plans\", \"preview\": '\n",
      " '\"The board will assist with analysis of current plans and goals for one of '\n",
      " 'the most difficult missions humanity has ever undertaken.\"}, {\"title\": '\n",
      " '\"Independent Review Indicates NASA Prepared for Mars Sample Return '\n",
      " 'Campaign\", \"preview\": \"NASA released an independent review report Tuesday '\n",
      " 'indicating the agency is well positioned for its Mars Sample Return campaign '\n",
      " 'to bring pristine samples from Mars to Earth for scientific study.\"}, '\n",
      " '{\"title\": \"NASA\\'s Mars Perseverance Rover Passes Flight Readiness Review\", '\n",
      " '\"preview\": \"\\\\u200bThe agency\\'s Mars 2020 mission has one more big '\n",
      " 'prelaunch review \\\\u2013 the Launch Readiness Review, on July 27.\"}, '\n",
      " '{\"title\": \"Follow NASA\\'s Perseverance Rover in Real Time on Its Way to '\n",
      " 'Mars\", \"preview\": \"A crisply rendered web application can show you where the '\n",
      " \"agency's Mars 2020 mission is right now as it makes its way to the Red \"\n",
      " 'Planet for a Feb. 18, 2021, landing.\"}, {\"title\": \"NASA\\'s Curiosity Mars '\n",
      " 'Rover Snaps Its Highest-Resolution Panorama Yet\", \"preview\": \"To go along '\n",
      " 'with the stunning 1.8-billion-pixel image, a new video offers a sweeping '\n",
      " 'view of the Red Planet.\"}, {\"title\": \"NASA Readies Perseverance Mars '\n",
      " 'Rover\\'s Earthly Twin \", \"preview\": \"Did you know NASA\\'s next Mars rover '\n",
      " \"has a nearly identical sibling on Earth for testing? Even better, it's about \"\n",
      " 'to roll for the first time through a replica Martian landscape.\"}, {\"title\": '\n",
      " '\"NASA\\'s Perseverance Rover Will Look at Mars Through These \\'Eyes\\'\", '\n",
      " '\"preview\": \"A pair of zoomable cameras will help scientists and rover '\n",
      " 'drivers with high-resolution color images.\"}, {\"title\": \"NASA to Broadcast '\n",
      " 'Mars 2020 Perseverance Launch, Prelaunch Activities\", \"preview\": \"Starting '\n",
      " 'July 27, news activities will cover everything from mission engineering and '\n",
      " 'science to returning samples from Mars to, of course, the launch itself.\"}, '\n",
      " '{\"title\": \"From JPL\\'s Mailroom to Mars and Beyond\", \"preview\": \"Bill Allen '\n",
      " 'has thrived as the mechanical systems design lead for three Mars rover '\n",
      " 'missions, but he got his start as a teenager sorting letters for the NASA '\n",
      " 'center.\"}, {\"title\": \"10.9 Million Names Now Aboard NASA\\'s Perseverance '\n",
      " 'Mars Rover\", \"preview\": \"As part of NASA\\'s \\'Send Your Name to Mars\\' '\n",
      " \"campaign, they've been stenciled onto three microchips along with essays \"\n",
      " 'from NASA\\'s \\'Name the Rover\\' contest. Next stop: Mars.\"}, {\"title\": '\n",
      " '\"Sensors on Mars 2020 Spacecraft Answer Long-Distance Call From Earth\", '\n",
      " '\"preview\": \"Instruments tailored to collect data during the descent of '\n",
      " \"NASA's next rover through the Red Planet's atmosphere have been checked in \"\n",
      " 'flight.\"}, {\"title\": \"NASA Administrator Statement on Moon to Mars '\n",
      " 'Initiative, FY 2021 Budget\", \"preview\": \"Jim Bridenstine addresses NASA\\'s '\n",
      " 'ambitious plans for the coming years, including Mars Sample Return.\"}, '\n",
      " '{\"title\": \"NASA Wins 4 Webbys, 4 People\\'s Voice Awards\", \"preview\": '\n",
      " '\"Winners include the JPL-managed \\\\\"Send Your Name to Mars\\\\\" campaign, '\n",
      " 'NASA\\'s Global Climate Change website and Solar System Interactive.\"}, '\n",
      " '{\"title\": \"The MarCO Mission Comes to an End\", \"preview\": \"The pair of '\n",
      " 'briefcase-sized satellites made history when they sailed past Mars in '\n",
      " '2019.\"}, {\"title\": \"Media Get a Close-Up of NASA\\'s Mars 2020 Rover\", '\n",
      " '\"preview\": \"The clean room at NASA\\'s Jet Propulsion Laboratory was open to '\n",
      " \"the media to see NASA's next Mars explorer before it leaves for Florida in \"\n",
      " 'preparation for a summertime launch.\"}, {\"title\": \"NASA Establishes Board to '\n",
      " 'Initially Review Mars Sample Return Plans\", \"preview\": \"The board will '\n",
      " 'assist with analysis of current plans and goals for one of the most '\n",
      " 'difficult missions humanity has ever undertaken.\"}, {\"title\": \"Independent '\n",
      " 'Review Indicates NASA Prepared for Mars Sample Return Campaign\", \"preview\": '\n",
      " '\"NASA released an independent review report Tuesday indicating the agency is '\n",
      " 'well positioned for its Mars Sample Return campaign to bring pristine '\n",
      " 'samples from Mars to Earth for scientific study.\"}, {\"title\": \"NASA\\'s Mars '\n",
      " 'Perseverance Rover Passes Flight Readiness Review\", \"preview\": \"\\\\u200bThe '\n",
      " \"agency's Mars 2020 mission has one more big prelaunch review \\\\u2013 the \"\n",
      " 'Launch Readiness Review, on July 27.\"}, {\"title\": \"Follow NASA\\'s '\n",
      " 'Perseverance Rover in Real Time on Its Way to Mars\", \"preview\": \"A crisply '\n",
      " \"rendered web application can show you where the agency's Mars 2020 mission \"\n",
      " 'is right now as it makes its way to the Red Planet for a Feb. 18, 2021, '\n",
      " 'landing.\"}, {\"title\": \"NASA\\'s Curiosity Mars Rover Snaps Its '\n",
      " 'Highest-Resolution Panorama Yet\", \"preview\": \"To go along with the stunning '\n",
      " '1.8-billion-pixel image, a new video offers a sweeping view of the Red '\n",
      " 'Planet.\"}, {\"title\": \"NASA Readies Perseverance Mars Rover\\'s Earthly Twin '\n",
      " '\", \"preview\": \"Did you know NASA\\'s next Mars rover has a nearly identical '\n",
      " \"sibling on Earth for testing? Even better, it's about to roll for the first \"\n",
      " 'time through a replica Martian landscape.\"}, {\"title\": \"NASA\\'s Perseverance '\n",
      " 'Rover Will Look at Mars Through These \\'Eyes\\'\", \"preview\": \"A pair of '\n",
      " 'zoomable cameras will help scientists and rover drivers with high-resolution '\n",
      " 'color images.\"}]')\n"
     ]
    }
   ],
   "source": [
    "import pprint\n",
    "pprint.pprint(json_file)"
   ]
  },
  {
   "cell_type": "code",
   "execution_count": null,
   "metadata": {},
   "outputs": [],
   "source": [
    "# Export data to MongoDB\n"
   ]
  }
 ],
 "metadata": {
  "kernelspec": {
   "display_name": "Python 3 (ipykernel)",
   "language": "python",
   "name": "python3"
  },
  "language_info": {
   "codemirror_mode": {
    "name": "ipython",
    "version": 3
   },
   "file_extension": ".py",
   "mimetype": "text/x-python",
   "name": "python",
   "nbconvert_exporter": "python",
   "pygments_lexer": "ipython3",
   "version": "3.9.12"
  }
 },
 "nbformat": 4,
 "nbformat_minor": 4
}
